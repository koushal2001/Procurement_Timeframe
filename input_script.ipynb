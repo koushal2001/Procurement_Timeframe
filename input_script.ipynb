{
 "cells": [
  {
   "cell_type": "code",
   "execution_count": 14,
   "id": "df844822",
   "metadata": {},
   "outputs": [],
   "source": [
    "import pandas as pd\n",
    "import pickle"
   ]
  },
  {
   "cell_type": "code",
   "execution_count": 7,
   "id": "1e7900f7",
   "metadata": {},
   "outputs": [],
   "source": [
    "filename = '/home/koushal/Downloads/Random_forest_model.sav'"
   ]
  },
  {
   "cell_type": "code",
   "execution_count": 8,
   "id": "1214ce31",
   "metadata": {},
   "outputs": [],
   "source": [
    "loaded_model = pickle.load(open(filename, 'rb'))"
   ]
  },
  {
   "cell_type": "code",
   "execution_count": 10,
   "id": "f8e20c60",
   "metadata": {},
   "outputs": [],
   "source": [
    "input_cols = [\"EST_COST_RANGE\", \"MODEOFTENDER\", \"METHOD_OF_PURCHASE\", \"FINANCIAL_POWER_CODE\", \"CFA_CODE\", \"CONCURRENCE_BY\", \"BUDGET_HEAD_CODE\", \"IS_PAC\"]"
   ]
  },
  {
   "cell_type": "code",
   "execution_count": 11,
   "id": "41367381",
   "metadata": {},
   "outputs": [],
   "source": [
    "output_value=[\"TOTAL_DAYS_RANGES\"]"
   ]
  },
  {
   "cell_type": "code",
   "execution_count": 12,
   "id": "7288107e",
   "metadata": {},
   "outputs": [],
   "source": [
    "import sys"
   ]
  },
  {
   "cell_type": "code",
   "execution_count": 17,
   "id": "5691f085",
   "metadata": {},
   "outputs": [
    {
     "ename": "ValueError",
     "evalue": "DataFrame constructor not properly called!",
     "output_type": "error",
     "traceback": [
      "\u001b[0;31m---------------------------------------------------------------------------\u001b[0m",
      "\u001b[0;31mValueError\u001b[0m                                Traceback (most recent call last)",
      "Input \u001b[0;32mIn [17]\u001b[0m, in \u001b[0;36m<cell line: 3>\u001b[0;34m()\u001b[0m\n\u001b[1;32m      1\u001b[0m input_val\u001b[38;5;241m=\u001b[39msys\u001b[38;5;241m.\u001b[39margv[\u001b[38;5;241m1\u001b[39m]\n\u001b[1;32m      2\u001b[0m \u001b[38;5;66;03m#convert input_val into a list from a string\u001b[39;00m\n\u001b[0;32m----> 3\u001b[0m df\u001b[38;5;241m=\u001b[39m\u001b[43mpd\u001b[49m\u001b[38;5;241;43m.\u001b[39;49m\u001b[43mDataFrame\u001b[49m\u001b[43m(\u001b[49m\u001b[43minput_val\u001b[49m\u001b[43m)\u001b[49m\n",
      "File \u001b[0;32m/usr/local/lib/python3.8/dist-packages/pandas/core/frame.py:756\u001b[0m, in \u001b[0;36mDataFrame.__init__\u001b[0;34m(self, data, index, columns, dtype, copy)\u001b[0m\n\u001b[1;32m    753\u001b[0m \u001b[38;5;66;03m# For data is scalar\u001b[39;00m\n\u001b[1;32m    754\u001b[0m \u001b[38;5;28;01melse\u001b[39;00m:\n\u001b[1;32m    755\u001b[0m     \u001b[38;5;28;01mif\u001b[39;00m index \u001b[38;5;129;01mis\u001b[39;00m \u001b[38;5;28;01mNone\u001b[39;00m \u001b[38;5;129;01mor\u001b[39;00m columns \u001b[38;5;129;01mis\u001b[39;00m \u001b[38;5;28;01mNone\u001b[39;00m:\n\u001b[0;32m--> 756\u001b[0m         \u001b[38;5;28;01mraise\u001b[39;00m \u001b[38;5;167;01mValueError\u001b[39;00m(\u001b[38;5;124m\"\u001b[39m\u001b[38;5;124mDataFrame constructor not properly called!\u001b[39m\u001b[38;5;124m\"\u001b[39m)\n\u001b[1;32m    758\u001b[0m     \u001b[38;5;66;03m# Argument 1 to \"ensure_index\" has incompatible type \"Collection[Any]\";\u001b[39;00m\n\u001b[1;32m    759\u001b[0m     \u001b[38;5;66;03m# expected \"Union[Union[Union[ExtensionArray, ndarray],\u001b[39;00m\n\u001b[1;32m    760\u001b[0m     \u001b[38;5;66;03m# Index, Series], Sequence[Any]]\"\u001b[39;00m\n\u001b[1;32m    761\u001b[0m     index \u001b[38;5;241m=\u001b[39m ensure_index(index)  \u001b[38;5;66;03m# type: ignore[arg-type]\u001b[39;00m\n",
      "\u001b[0;31mValueError\u001b[0m: DataFrame constructor not properly called!"
     ]
    }
   ],
   "source": [
    "\n",
    "input_val=sys.argv[1]\n",
    "#convert input_val into a list from a string\n",
    "df=pd.DataFrame(input_val)\n",
    "df.columns=input_cols"
   ]
  },
  {
   "cell_type": "code",
   "execution_count": null,
   "id": "f7c4189b",
   "metadata": {},
   "outputs": [],
   "source": [
    "cost_ranges = [(0, 1000000), (1000001, 2500000), (2500001, 5000000), (5000001, 10000000), (10000001, 50000000), (50000001, 100000000)]\n",
    "cost_ranges_endcoding = ['0 - 10L', '10L - 25L', '25L - 50L', '50L - 1CR', '1CR - 5CR', '5CR - 10CR', '> 10CR']\n",
    "\n",
    "def range_encoding(df, source_col_name, dest_col_name, ranges, encoding):\n",
    "  ranges_result = []\n",
    "  for val in df[iloc[0]]:\n",
    "    flag = False\n",
    "    for i in range(len(encoding) - 1):\n",
    "      if ranges[i][0] <= val <= ranges[i][1]:\n",
    "        ranges_result.append(encoding[i])\n",
    "        flag = True\n",
    "        break\n",
    "    if not flag:\n",
    "      ranges_result.append(encoding[len(encoding) - 1])\n",
    "\n",
    "  df[dest_col_name] = ranges_result\n",
    "  return df\n",
    "\n",
    "\n",
    "####################################### TO BE DONE ######"
   ]
  },
  {
   "cell_type": "code",
   "execution_count": 18,
   "id": "58ee9bbc",
   "metadata": {},
   "outputs": [
    {
     "ename": "NameError",
     "evalue": "name 'df' is not defined",
     "output_type": "error",
     "traceback": [
      "\u001b[0;31m---------------------------------------------------------------------------\u001b[0m",
      "\u001b[0;31mNameError\u001b[0m                                 Traceback (most recent call last)",
      "Input \u001b[0;32mIn [18]\u001b[0m, in \u001b[0;36m<cell line: 1>\u001b[0;34m()\u001b[0m\n\u001b[0;32m----> 1\u001b[0m \u001b[43mdf\u001b[49m\u001b[38;5;241m.\u001b[39mcolumns\u001b[38;5;241m=\u001b[39minput_cols\n",
      "\u001b[0;31mNameError\u001b[0m: name 'df' is not defined"
     ]
    }
   ],
   "source": [
    "## call range encoding"
   ]
  },
  {
   "cell_type": "code",
   "execution_count": 19,
   "id": "1c294b2c",
   "metadata": {},
   "outputs": [
    {
     "ename": "NameError",
     "evalue": "name 'df' is not defined",
     "output_type": "error",
     "traceback": [
      "\u001b[0;31m---------------------------------------------------------------------------\u001b[0m",
      "\u001b[0;31mNameError\u001b[0m                                 Traceback (most recent call last)",
      "Input \u001b[0;32mIn [19]\u001b[0m, in \u001b[0;36m<cell line: 1>\u001b[0;34m()\u001b[0m\n\u001b[0;32m----> 1\u001b[0m output\u001b[38;5;241m=\u001b[39mloaded_model\u001b[38;5;241m.\u001b[39mpredict(\u001b[43mdf\u001b[49m)\n",
      "\u001b[0;31mNameError\u001b[0m: name 'df' is not defined"
     ]
    }
   ],
   "source": [
    "output=loaded_model.predict(df)\n"
   ]
  },
  {
   "cell_type": "code",
   "execution_count": null,
   "id": "21bb6770",
   "metadata": {},
   "outputs": [],
   "source": [
    "print(output)"
   ]
  }
 ],
 "metadata": {
  "kernelspec": {
   "display_name": "Python 3 (ipykernel)",
   "language": "python",
   "name": "python3"
  },
  "language_info": {
   "codemirror_mode": {
    "name": "ipython",
    "version": 3
   },
   "file_extension": ".py",
   "mimetype": "text/x-python",
   "name": "python",
   "nbconvert_exporter": "python",
   "pygments_lexer": "ipython3",
   "version": "3.8.10"
  }
 },
 "nbformat": 4,
 "nbformat_minor": 5
}
